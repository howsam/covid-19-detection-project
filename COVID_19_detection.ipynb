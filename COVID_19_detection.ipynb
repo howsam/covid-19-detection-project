{
  "nbformat": 4,
  "nbformat_minor": 0,
  "metadata": {
    "colab": {
      "name": "COVID-19-detection.ipynb",
      "provenance": [],
      "collapsed_sections": [],
      "toc_visible": true
    },
    "kernelspec": {
      "name": "python3",
      "display_name": "Python 3"
    },
    "accelerator": "GPU"
  },
  "cells": [
    {
      "cell_type": "markdown",
      "metadata": {
        "id": "gTv0ayLu_Nsf",
        "colab_type": "text"
      },
      "source": [
        "# **Download data from github**"
      ]
    },
    {
      "cell_type": "code",
      "metadata": {
        "id": "VPw6cHEZO-SJ",
        "colab_type": "code",
        "colab": {
          "base_uri": "https://localhost:8080/",
          "height": 150
        },
        "outputId": "1b1137c0-6f00-4de2-b3cc-15a5eec8f5b0"
      },
      "source": [
        "! git clone https://github.com/ieee8023/covid-chestxray-dataset"
      ],
      "execution_count": 1,
      "outputs": [
        {
          "output_type": "stream",
          "text": [
            "Cloning into 'covid-chestxray-dataset'...\n",
            "remote: Enumerating objects: 36, done.\u001b[K\n",
            "remote: Counting objects: 100% (36/36), done.\u001b[K\n",
            "remote: Compressing objects: 100% (28/28), done.\u001b[K\n",
            "remote: Total 3651 (delta 13), reused 21 (delta 8), pack-reused 3615\u001b[K\n",
            "Receiving objects: 100% (3651/3651), 632.29 MiB | 42.82 MiB/s, done.\n",
            "Resolving deltas: 100% (1461/1461), done.\n",
            "Checking out files: 100% (1164/1164), done.\n"
          ],
          "name": "stdout"
        }
      ]
    },
    {
      "cell_type": "markdown",
      "metadata": {
        "id": "HSq5-DLR_fXl",
        "colab_type": "text"
      },
      "source": [
        "# **create a folder named dataset and ...**"
      ]
    },
    {
      "cell_type": "code",
      "metadata": {
        "id": "VL9QTzwsPu2z",
        "colab_type": "code",
        "colab": {}
      },
      "source": [
        "! mkdir dataset\n",
        "! mkdir /content/dataset/train\n",
        "! mkdir /content/dataset/train/covid\n",
        "! mkdir /content/dataset/train/normal\n",
        "! mkdir /content/dataset/test\n",
        "! mkdir /content/dataset/test/covid\n",
        "! mkdir /content/dataset/test/normal"
      ],
      "execution_count": 2,
      "outputs": []
    },
    {
      "cell_type": "markdown",
      "metadata": {
        "id": "ltMFV5BLAQIG",
        "colab_type": "text"
      },
      "source": [
        "# **Download data from kaggle**\n",
        "from kaggle - my account press \"create new token api\". upload downloaded file here."
      ]
    },
    {
      "cell_type": "code",
      "metadata": {
        "id": "_lo53zC6SAIR",
        "colab_type": "code",
        "colab": {
          "resources": {
            "http://localhost:8080/nbextensions/google.colab/files.js": {
              "data": "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",
              "ok": true,
              "headers": [
                [
                  "content-type",
                  "application/javascript"
                ]
              ],
              "status": 200,
              "status_text": ""
            }
          },
          "base_uri": "https://localhost:8080/",
          "height": 290
        },
        "outputId": "3365e6fd-1f2e-42e4-f45e-8f728a36931f"
      },
      "source": [
        "! pip install kaggle\n",
        "from google.colab import files\n",
        "files.upload()"
      ],
      "execution_count": 3,
      "outputs": [
        {
          "output_type": "stream",
          "text": [
            "Requirement already satisfied: kaggle in /usr/local/lib/python3.6/dist-packages (1.5.8)\n",
            "Requirement already satisfied: slugify in /usr/local/lib/python3.6/dist-packages (from kaggle) (0.0.1)\n",
            "Requirement already satisfied: six>=1.10 in /usr/local/lib/python3.6/dist-packages (from kaggle) (1.15.0)\n",
            "Requirement already satisfied: python-dateutil in /usr/local/lib/python3.6/dist-packages (from kaggle) (2.8.1)\n",
            "Requirement already satisfied: python-slugify in /usr/local/lib/python3.6/dist-packages (from kaggle) (4.0.1)\n",
            "Requirement already satisfied: tqdm in /usr/local/lib/python3.6/dist-packages (from kaggle) (4.41.1)\n",
            "Requirement already satisfied: urllib3<1.25,>=1.21.1 in /usr/local/lib/python3.6/dist-packages (from kaggle) (1.24.3)\n",
            "Requirement already satisfied: certifi in /usr/local/lib/python3.6/dist-packages (from kaggle) (2020.6.20)\n",
            "Requirement already satisfied: requests in /usr/local/lib/python3.6/dist-packages (from kaggle) (2.23.0)\n",
            "Requirement already satisfied: text-unidecode>=1.3 in /usr/local/lib/python3.6/dist-packages (from python-slugify->kaggle) (1.3)\n",
            "Requirement already satisfied: idna<3,>=2.5 in /usr/local/lib/python3.6/dist-packages (from requests->kaggle) (2.10)\n",
            "Requirement already satisfied: chardet<4,>=3.0.2 in /usr/local/lib/python3.6/dist-packages (from requests->kaggle) (3.0.4)\n"
          ],
          "name": "stdout"
        },
        {
          "output_type": "display_data",
          "data": {
            "text/html": [
              "\n",
              "     <input type=\"file\" id=\"files-7bf72112-0c9b-4558-b74c-8958235a2a68\" name=\"files[]\" multiple disabled\n",
              "        style=\"border:none\" />\n",
              "     <output id=\"result-7bf72112-0c9b-4558-b74c-8958235a2a68\">\n",
              "      Upload widget is only available when the cell has been executed in the\n",
              "      current browser session. Please rerun this cell to enable.\n",
              "      </output>\n",
              "      <script src=\"/nbextensions/google.colab/files.js\"></script> "
            ],
            "text/plain": [
              "<IPython.core.display.HTML object>"
            ]
          },
          "metadata": {
            "tags": []
          }
        },
        {
          "output_type": "stream",
          "text": [
            "Saving kaggle.json to kaggle.json\n"
          ],
          "name": "stdout"
        },
        {
          "output_type": "execute_result",
          "data": {
            "text/plain": [
              "{'kaggle.json': b'{\"username\":\"golabiabi\",\"key\":\"ccaab0263258794f607a2b32e397be80\"}'}"
            ]
          },
          "metadata": {
            "tags": []
          },
          "execution_count": 3
        }
      ]
    },
    {
      "cell_type": "code",
      "metadata": {
        "id": "9QFcJfhqSRv8",
        "colab_type": "code",
        "colab": {
          "base_uri": "https://localhost:8080/",
          "height": 67
        },
        "outputId": "45f905b9-23b8-4b41-eaa1-1d511371dbf9"
      },
      "source": [
        "# ******* make root/kaggle folder **********\n",
        "! mkdir -p ~/.kaggle\n",
        "!cp kaggle.json ~/.kaggle/\n",
        "!chmod 600 ~/.kaggle/kaggle.json\n",
        "# ************** download data **********\n",
        "! kaggle datasets download -d paultimothymooney/chest-xray-pneumonia\n",
        "# !unzip\n",
        "!unzip -q /content/chest-xray-pneumonia.zip"
      ],
      "execution_count": 4,
      "outputs": [
        {
          "output_type": "stream",
          "text": [
            "Downloading chest-xray-pneumonia.zip to /content\n",
            " 99% 2.27G/2.29G [00:30<00:00, 41.8MB/s]\n",
            "100% 2.29G/2.29G [00:30<00:00, 79.8MB/s]\n"
          ],
          "name": "stdout"
        }
      ]
    },
    {
      "cell_type": "markdown",
      "metadata": {
        "id": "0ENy-aFwAe6a",
        "colab_type": "text"
      },
      "source": [
        "# **extract all covid cases**"
      ]
    },
    {
      "cell_type": "code",
      "metadata": {
        "id": "qjYzBvMV-wNu",
        "colab_type": "code",
        "colab": {}
      },
      "source": [
        "import pandas as pd\n",
        "\n",
        "csvPath = '/content/covid-chestxray-dataset/metadata.csv'\n",
        "df = pd.read_csv(csvPath)"
      ],
      "execution_count": 5,
      "outputs": []
    },
    {
      "cell_type": "code",
      "metadata": {
        "id": "k7cC4zSkV_od",
        "colab_type": "code",
        "colab": {
          "base_uri": "https://localhost:8080/",
          "height": 33
        },
        "outputId": "40f2debe-6686-4793-c825-6c2c133ae395"
      },
      "source": [
        "df.__len__()"
      ],
      "execution_count": 6,
      "outputs": [
        {
          "output_type": "execute_result",
          "data": {
            "text/plain": [
              "941"
            ]
          },
          "metadata": {
            "tags": []
          },
          "execution_count": 6
        }
      ]
    },
    {
      "cell_type": "code",
      "metadata": {
        "id": "gBP-mLlhTOo4",
        "colab_type": "code",
        "colab": {}
      },
      "source": [
        "p_id = 0\n",
        "cov_fn = []\n",
        "allfiles = []\n",
        "\n",
        "for (i, row) in df.iterrows():\n",
        "\tn_id = row[\"patientid\"]\n",
        "\n",
        "\tif n_id != p_id and len(cov_fn)>0 and p_id != 0:\n",
        "\t\tallfiles.append(cov_fn)\n",
        "\t\tcov_fn = []\n",
        "\tif row[\"finding\"] == \"Pneumonia/Viral/COVID-19\" and row[\"view\"] == \"PA\":\n",
        "\t\tcov_fn.append(row[\"filename\"])\n",
        "\t\tp_id = row[\"patientid\"]"
      ],
      "execution_count": 7,
      "outputs": []
    },
    {
      "cell_type": "markdown",
      "metadata": {
        "id": "jgkCE6i6A1Ul",
        "colab_type": "text"
      },
      "source": [
        "# **split covid data to train and test**"
      ]
    },
    {
      "cell_type": "code",
      "metadata": {
        "id": "ZMRRFuP6E4E3",
        "colab_type": "code",
        "colab": {}
      },
      "source": [
        "from sklearn.model_selection import train_test_split\n",
        "\t\n",
        "x_train_c, x_test_c = train_test_split(allfiles, test_size=0.20, random_state=23)"
      ],
      "execution_count": 8,
      "outputs": []
    },
    {
      "cell_type": "markdown",
      "metadata": {
        "id": "SiF5jPyIBF2o",
        "colab_type": "text"
      },
      "source": [
        "# **save data to folders**"
      ]
    },
    {
      "cell_type": "code",
      "metadata": {
        "id": "69d8Klcx_C3Q",
        "colab_type": "code",
        "colab": {}
      },
      "source": [
        "import shutil\n",
        "\n",
        "for img in sum(x_train_c, []):\n",
        "    src = '/content/covid-chestxray-dataset/images/' + img\n",
        "    dst = '/content/dataset/train/covid/' + img\n",
        "    shutil.copy2(src, dst)\n",
        "\n",
        "for img in sum(x_test_c, []):\n",
        "    src = '/content/covid-chestxray-dataset/images/' + img\n",
        "    dst = '/content/dataset/test/covid/' + img\n",
        "    shutil.copy2(src, dst)"
      ],
      "execution_count": 9,
      "outputs": []
    },
    {
      "cell_type": "code",
      "metadata": {
        "id": "bkAHDv_VUJto",
        "colab_type": "code",
        "colab": {}
      },
      "source": [
        "import os\n",
        "import cv2\n",
        "import random\n",
        "\n",
        "n_samples = len(sum(allfiles, []))\n",
        "kaggle_data_path = '/content/chest_xray/train/NORMAL/'\n",
        "output_path_train = '/content/dataset/train/normal/'\n",
        "output_path_test = '/content/dataset/test/normal/'\n",
        "\n",
        "filenames = os.listdir(kaggle_data_path)\n",
        "random.seed(42)\n",
        "filenames = random.sample(filenames, len(filenames))\n",
        "for i in range(n_samples):\n",
        "    n_image = cv2.imread(kaggle_data_path + filenames[i])\n",
        "    if i < sum(x_train_c, []).__len__():\n",
        "        cv2.imwrite(output_path_train + filenames[i], n_image)\n",
        "    else:\n",
        "        cv2.imwrite(output_path_test + filenames[i], n_image)"
      ],
      "execution_count": 10,
      "outputs": []
    },
    {
      "cell_type": "markdown",
      "metadata": {
        "id": "xEypj6CLBW11",
        "colab_type": "text"
      },
      "source": [
        "# **prepare data**"
      ]
    },
    {
      "cell_type": "code",
      "metadata": {
        "id": "xcx1GbycEdsP",
        "colab_type": "code",
        "colab": {}
      },
      "source": [
        "import os \n",
        "import numpy as np \n",
        "\n",
        "path = \"/content/dataset\" \n",
        "x_train_n = [] \n",
        "x_train_c = [] \n",
        "x_test_n = [] \n",
        "x_test_c = [] \n",
        "\n",
        "for p in os.listdir(path+ '/train/normal/'): \n",
        "    x_train_n.append(cv2.imread(path + '/train/normal/' + p)) \n",
        "for p in os.listdir(path+ '/train/covid/'): \n",
        "    x_train_c.append(cv2.imread(path + '/train/covid/' + p)) \n",
        "for p in os.listdir(path+ '/test/normal/'): \n",
        "    x_test_n.append(cv2.imread(path + '/test/normal/' + p)) \n",
        "for p in os.listdir(path+ '/test/covid/'): \n",
        "    x_test_c.append(cv2.imread(path + '/test/covid/' + p))"
      ],
      "execution_count": 11,
      "outputs": []
    },
    {
      "cell_type": "code",
      "metadata": {
        "id": "nYdYmFZ1E0Nx",
        "colab_type": "code",
        "colab": {}
      },
      "source": [
        "for i in range(len(x_train_n)):\n",
        "    x_train_n[i] = cv2.resize(x_train_n[i], (224, 224))\n",
        "    x_train_c[i] = cv2.resize(x_train_c[i], (224, 224))\n",
        "\n",
        "for i in range(len(x_test_n)):\n",
        "    x_test_n[i] = cv2.resize(x_test_n[i], (224, 224))\n",
        "    x_test_c[i] = cv2.resize(x_test_c[i], (224, 224))"
      ],
      "execution_count": 12,
      "outputs": []
    },
    {
      "cell_type": "code",
      "metadata": {
        "id": "h1DuI0Y7GGRx",
        "colab_type": "code",
        "colab": {}
      },
      "source": [
        "x_train_n = np.array(x_train_n)\n",
        "x_train_c = np.array(x_train_c)\n",
        "x_test_n = np.array(x_test_n)\n",
        "x_test_c = np.array(x_test_c)"
      ],
      "execution_count": 13,
      "outputs": []
    },
    {
      "cell_type": "code",
      "metadata": {
        "id": "VsLZxeigF1Af",
        "colab_type": "code",
        "colab": {
          "base_uri": "https://localhost:8080/",
          "height": 84
        },
        "outputId": "0341825e-1dcd-432a-86b2-6be8c9160a2f"
      },
      "source": [
        "print(x_train_n.shape) \n",
        "print(x_train_c.shape) \n",
        "print(x_test_n.shape) \n",
        "print(x_test_c.shape)"
      ],
      "execution_count": 14,
      "outputs": [
        {
          "output_type": "stream",
          "text": [
            "(148, 224, 224, 3)\n",
            "(148, 224, 224, 3)\n",
            "(47, 224, 224, 3)\n",
            "(47, 224, 224, 3)\n"
          ],
          "name": "stdout"
        }
      ]
    },
    {
      "cell_type": "code",
      "metadata": {
        "id": "4ZdxezcRHL9N",
        "colab_type": "code",
        "colab": {}
      },
      "source": [
        "x_train = np.concatenate((x_train_n, x_train_c))/255.0\n",
        "x_test = np.concatenate((x_test_n, x_test_c))/255.0"
      ],
      "execution_count": 15,
      "outputs": []
    },
    {
      "cell_type": "code",
      "metadata": {
        "id": "z_6N6l9xHPrP",
        "colab_type": "code",
        "colab": {}
      },
      "source": [
        "y_train_n = np.zeros(x_train_n.shape[0])\n",
        "y_train_c = np.ones(x_train_c.shape[0])\n",
        "y_test_n = np.zeros(x_test_n.shape[0])\n",
        "y_test_c = np.ones(x_test_c.shape[0])"
      ],
      "execution_count": 16,
      "outputs": []
    },
    {
      "cell_type": "code",
      "metadata": {
        "id": "JJxnOSioHOs0",
        "colab_type": "code",
        "colab": {}
      },
      "source": [
        "y_train = np.concatenate((y_train_n, y_train_c))\n",
        "y_test = np.concatenate((y_test_n, y_test_c))"
      ],
      "execution_count": 17,
      "outputs": []
    },
    {
      "cell_type": "code",
      "metadata": {
        "id": "uIcyqQlTJpKh",
        "colab_type": "code",
        "colab": {}
      },
      "source": [
        "y_train = np.expand_dims(y_train, -1)\n",
        "y_test = np.expand_dims(y_test, -1)"
      ],
      "execution_count": 18,
      "outputs": []
    },
    {
      "cell_type": "code",
      "metadata": {
        "id": "spSzm24VJe5O",
        "colab_type": "code",
        "colab": {
          "base_uri": "https://localhost:8080/",
          "height": 84
        },
        "outputId": "d9a1c551-ff94-448b-f3fd-a09b5a5730b4"
      },
      "source": [
        "print(x_train.shape)\n",
        "print(x_test.shape)\n",
        "print(y_train.shape)\n",
        "print(y_test.shape)"
      ],
      "execution_count": 19,
      "outputs": [
        {
          "output_type": "stream",
          "text": [
            "(296, 224, 224, 3)\n",
            "(94, 224, 224, 3)\n",
            "(296, 1)\n",
            "(94, 1)\n"
          ],
          "name": "stdout"
        }
      ]
    },
    {
      "cell_type": "markdown",
      "metadata": {
        "id": "S4nPCHWlDpbY",
        "colab_type": "text"
      },
      "source": [
        "# **define model**"
      ]
    },
    {
      "cell_type": "code",
      "metadata": {
        "id": "utkkMYzLDOAp",
        "colab_type": "code",
        "colab": {}
      },
      "source": [
        "# import the necessary packages\n",
        "from tensorflow.keras.preprocessing.image import ImageDataGenerator\n",
        "from tensorflow.keras.applications import VGG16\n",
        "from tensorflow.keras.layers import AveragePooling2D\n",
        "from tensorflow.keras.layers import Dropout\n",
        "from tensorflow.keras.layers import Flatten\n",
        "from tensorflow.keras.layers import Dense\n",
        "from tensorflow.keras.layers import Input\n",
        "from tensorflow.keras.models import Model\n",
        "from tensorflow.keras.optimizers import Adam\n",
        "from tensorflow.keras.utils import to_categorical\n",
        "from sklearn.preprocessing import LabelBinarizer\n",
        "from sklearn.model_selection import train_test_split\n",
        "from sklearn.metrics import classification_report\n",
        "from sklearn.metrics import confusion_matrix\n",
        "from imutils import paths\n",
        "import matplotlib.pyplot as plt\n",
        "import numpy as np\n",
        "import argparse\n",
        "import cv2\n",
        "import os"
      ],
      "execution_count": 20,
      "outputs": []
    },
    {
      "cell_type": "code",
      "metadata": {
        "id": "j9e9uz_dGTGJ",
        "colab_type": "code",
        "colab": {}
      },
      "source": [
        "# initialize the initial learning rate, number of epochs to train for,\n",
        "# and batch size\n",
        "INIT_LR = 1e-3\n",
        "EPOCHS = 50\n",
        "BS = 8"
      ],
      "execution_count": 21,
      "outputs": []
    },
    {
      "cell_type": "code",
      "metadata": {
        "id": "8-ZzRZgRGbOb",
        "colab_type": "code",
        "colab": {}
      },
      "source": [
        "# initialize the training data augmentation object\n",
        "trainAug = ImageDataGenerator(\n",
        "\trotation_range=15,\n",
        "\tfill_mode=\"nearest\")"
      ],
      "execution_count": 22,
      "outputs": []
    },
    {
      "cell_type": "code",
      "metadata": {
        "id": "ZQj-zQ-JGiVv",
        "colab_type": "code",
        "colab": {
          "base_uri": "https://localhost:8080/",
          "height": 70
        },
        "outputId": "7b709beb-5f94-48f0-848d-ead6f944e2c2"
      },
      "source": [
        "# load the VGG16 network, ensuring the head FC layer sets are left\n",
        "# off\n",
        "baseModel = VGG16(weights=\"imagenet\", include_top=False,\n",
        "\tinput_tensor=Input(shape=(224, 224, 3)))\n",
        "# construct the head of the model that will be placed on top of the\n",
        "# the base model\n",
        "headModel = baseModel.output\n",
        "headModel = AveragePooling2D(pool_size=(4, 4))(headModel)\n",
        "headModel = Flatten(name=\"flatten\")(headModel)\n",
        "headModel = Dense(64, activation=\"relu\")(headModel)\n",
        "headModel = Dropout(0.5)(headModel)\n",
        "headModel = Dense(1, activation=\"sigmoid\")(headModel)\n",
        "# place the head FC model on top of the base model (this will become\n",
        "# the actual model we will train)\n",
        "model = Model(inputs=baseModel.input, outputs=headModel)\n",
        "# loop over all layers in the base model and freeze them so they will\n",
        "# *not* be updated during the first training process\n",
        "for layer in baseModel.layers:\n",
        "\tlayer.trainable = False"
      ],
      "execution_count": 23,
      "outputs": [
        {
          "output_type": "stream",
          "text": [
            "Downloading data from https://storage.googleapis.com/tensorflow/keras-applications/vgg16/vgg16_weights_tf_dim_ordering_tf_kernels_notop.h5\n",
            "58892288/58889256 [==============================] - 0s 0us/step\n"
          ],
          "name": "stdout"
        }
      ]
    },
    {
      "cell_type": "code",
      "metadata": {
        "id": "1q2hyqzfGlcU",
        "colab_type": "code",
        "colab": {
          "base_uri": "https://localhost:8080/",
          "height": 1000
        },
        "outputId": "e899105d-77b1-4d5d-880e-56f19fdf4c3b"
      },
      "source": [
        "# compile our model\n",
        "print(\"[INFO] compiling model...\")\n",
        "opt = Adam(lr=INIT_LR, decay=INIT_LR / EPOCHS)\n",
        "model.compile(loss=\"binary_crossentropy\", optimizer=opt,\n",
        "\tmetrics=[\"accuracy\"])\n",
        "# train the head of the network\n",
        "print(\"[INFO] training head...\")\n",
        "H = model.fit_generator(\n",
        "\ttrainAug.flow(x_train, y_train, batch_size=BS),\n",
        "\tsteps_per_epoch=len(x_train) // BS,\n",
        "\tvalidation_data=(x_test, y_test),\n",
        "\tvalidation_steps=len(x_test) // BS,\n",
        "\tepochs=EPOCHS)"
      ],
      "execution_count": 24,
      "outputs": [
        {
          "output_type": "stream",
          "text": [
            "[INFO] compiling model...\n",
            "[INFO] training head...\n",
            "WARNING:tensorflow:From <ipython-input-24-d84bfd31bc29>:13: Model.fit_generator (from tensorflow.python.keras.engine.training) is deprecated and will be removed in a future version.\n",
            "Instructions for updating:\n",
            "Please use Model.fit, which supports generators.\n",
            "Epoch 1/50\n",
            "37/37 [==============================] - 5s 139ms/step - loss: 0.6236 - accuracy: 0.6520 - val_loss: 0.4694 - val_accuracy: 0.9468\n",
            "Epoch 2/50\n",
            "37/37 [==============================] - 4s 108ms/step - loss: 0.4234 - accuracy: 0.8480 - val_loss: 0.3183 - val_accuracy: 0.9468\n",
            "Epoch 3/50\n",
            "37/37 [==============================] - 4s 108ms/step - loss: 0.3176 - accuracy: 0.9155 - val_loss: 0.2423 - val_accuracy: 0.9574\n",
            "Epoch 4/50\n",
            "37/37 [==============================] - 4s 108ms/step - loss: 0.2675 - accuracy: 0.9122 - val_loss: 0.2038 - val_accuracy: 0.9468\n",
            "Epoch 5/50\n",
            "37/37 [==============================] - 4s 108ms/step - loss: 0.2471 - accuracy: 0.9189 - val_loss: 0.1899 - val_accuracy: 0.9574\n",
            "Epoch 6/50\n",
            "37/37 [==============================] - 4s 108ms/step - loss: 0.2090 - accuracy: 0.9392 - val_loss: 0.1580 - val_accuracy: 0.9574\n",
            "Epoch 7/50\n",
            "37/37 [==============================] - 4s 107ms/step - loss: 0.1850 - accuracy: 0.9493 - val_loss: 0.1663 - val_accuracy: 0.9574\n",
            "Epoch 8/50\n",
            "37/37 [==============================] - 4s 110ms/step - loss: 0.1551 - accuracy: 0.9459 - val_loss: 0.1494 - val_accuracy: 0.9681\n",
            "Epoch 9/50\n",
            "37/37 [==============================] - 4s 110ms/step - loss: 0.1647 - accuracy: 0.9493 - val_loss: 0.1320 - val_accuracy: 0.9681\n",
            "Epoch 10/50\n",
            "37/37 [==============================] - 4s 110ms/step - loss: 0.1231 - accuracy: 0.9662 - val_loss: 0.1285 - val_accuracy: 0.9681\n",
            "Epoch 11/50\n",
            "37/37 [==============================] - 4s 108ms/step - loss: 0.1397 - accuracy: 0.9493 - val_loss: 0.1168 - val_accuracy: 0.9787\n",
            "Epoch 12/50\n",
            "37/37 [==============================] - 4s 108ms/step - loss: 0.1209 - accuracy: 0.9696 - val_loss: 0.1252 - val_accuracy: 0.9681\n",
            "Epoch 13/50\n",
            "37/37 [==============================] - 4s 107ms/step - loss: 0.1034 - accuracy: 0.9764 - val_loss: 0.1101 - val_accuracy: 0.9787\n",
            "Epoch 14/50\n",
            "37/37 [==============================] - 4s 107ms/step - loss: 0.1115 - accuracy: 0.9595 - val_loss: 0.1311 - val_accuracy: 0.9681\n",
            "Epoch 15/50\n",
            "37/37 [==============================] - 4s 107ms/step - loss: 0.0916 - accuracy: 0.9696 - val_loss: 0.1219 - val_accuracy: 0.9681\n",
            "Epoch 16/50\n",
            "37/37 [==============================] - 4s 109ms/step - loss: 0.1037 - accuracy: 0.9662 - val_loss: 0.1416 - val_accuracy: 0.9681\n",
            "Epoch 17/50\n",
            "37/37 [==============================] - 4s 110ms/step - loss: 0.1053 - accuracy: 0.9628 - val_loss: 0.1376 - val_accuracy: 0.9681\n",
            "Epoch 18/50\n",
            "37/37 [==============================] - 4s 109ms/step - loss: 0.0840 - accuracy: 0.9764 - val_loss: 0.1014 - val_accuracy: 0.9787\n",
            "Epoch 19/50\n",
            "37/37 [==============================] - 4s 107ms/step - loss: 0.0718 - accuracy: 0.9730 - val_loss: 0.1123 - val_accuracy: 0.9681\n",
            "Epoch 20/50\n",
            "37/37 [==============================] - 4s 108ms/step - loss: 0.0683 - accuracy: 0.9730 - val_loss: 0.0975 - val_accuracy: 0.9681\n",
            "Epoch 21/50\n",
            "37/37 [==============================] - 4s 108ms/step - loss: 0.0708 - accuracy: 0.9865 - val_loss: 0.0992 - val_accuracy: 0.9787\n",
            "Epoch 22/50\n",
            "37/37 [==============================] - 4s 110ms/step - loss: 0.0740 - accuracy: 0.9831 - val_loss: 0.0986 - val_accuracy: 0.9787\n",
            "Epoch 23/50\n",
            "37/37 [==============================] - 4s 108ms/step - loss: 0.0815 - accuracy: 0.9730 - val_loss: 0.0928 - val_accuracy: 0.9787\n",
            "Epoch 24/50\n",
            "37/37 [==============================] - 4s 107ms/step - loss: 0.0638 - accuracy: 0.9797 - val_loss: 0.0921 - val_accuracy: 0.9787\n",
            "Epoch 25/50\n",
            "37/37 [==============================] - 4s 107ms/step - loss: 0.0672 - accuracy: 0.9899 - val_loss: 0.0948 - val_accuracy: 0.9787\n",
            "Epoch 26/50\n",
            "37/37 [==============================] - 4s 108ms/step - loss: 0.0637 - accuracy: 0.9764 - val_loss: 0.0881 - val_accuracy: 0.9787\n",
            "Epoch 27/50\n",
            "37/37 [==============================] - 4s 106ms/step - loss: 0.0581 - accuracy: 0.9899 - val_loss: 0.0995 - val_accuracy: 0.9681\n",
            "Epoch 28/50\n",
            "37/37 [==============================] - 4s 106ms/step - loss: 0.0561 - accuracy: 0.9797 - val_loss: 0.0873 - val_accuracy: 0.9787\n",
            "Epoch 29/50\n",
            "37/37 [==============================] - 4s 108ms/step - loss: 0.0523 - accuracy: 0.9899 - val_loss: 0.1072 - val_accuracy: 0.9681\n",
            "Epoch 30/50\n",
            "37/37 [==============================] - 4s 106ms/step - loss: 0.0644 - accuracy: 0.9764 - val_loss: 0.0988 - val_accuracy: 0.9681\n",
            "Epoch 31/50\n",
            "37/37 [==============================] - 4s 106ms/step - loss: 0.0535 - accuracy: 0.9831 - val_loss: 0.0851 - val_accuracy: 0.9787\n",
            "Epoch 32/50\n",
            "37/37 [==============================] - 4s 107ms/step - loss: 0.0480 - accuracy: 0.9899 - val_loss: 0.0952 - val_accuracy: 0.9681\n",
            "Epoch 33/50\n",
            "37/37 [==============================] - 4s 106ms/step - loss: 0.0458 - accuracy: 0.9865 - val_loss: 0.0916 - val_accuracy: 0.9787\n",
            "Epoch 34/50\n",
            "37/37 [==============================] - 4s 106ms/step - loss: 0.0388 - accuracy: 0.9932 - val_loss: 0.1017 - val_accuracy: 0.9681\n",
            "Epoch 35/50\n",
            "37/37 [==============================] - 4s 107ms/step - loss: 0.0419 - accuracy: 0.9865 - val_loss: 0.0887 - val_accuracy: 0.9787\n",
            "Epoch 36/50\n",
            "37/37 [==============================] - 4s 107ms/step - loss: 0.0490 - accuracy: 0.9831 - val_loss: 0.1045 - val_accuracy: 0.9681\n",
            "Epoch 37/50\n",
            "37/37 [==============================] - 4s 108ms/step - loss: 0.0554 - accuracy: 0.9865 - val_loss: 0.0823 - val_accuracy: 0.9787\n",
            "Epoch 38/50\n",
            "37/37 [==============================] - 4s 106ms/step - loss: 0.0474 - accuracy: 0.9865 - val_loss: 0.1017 - val_accuracy: 0.9681\n",
            "Epoch 39/50\n",
            "37/37 [==============================] - 4s 107ms/step - loss: 0.0375 - accuracy: 0.9865 - val_loss: 0.0863 - val_accuracy: 0.9787\n",
            "Epoch 40/50\n",
            "37/37 [==============================] - 4s 108ms/step - loss: 0.0261 - accuracy: 0.9966 - val_loss: 0.0862 - val_accuracy: 0.9787\n",
            "Epoch 41/50\n",
            "37/37 [==============================] - 4s 107ms/step - loss: 0.0368 - accuracy: 0.9899 - val_loss: 0.0959 - val_accuracy: 0.9681\n",
            "Epoch 42/50\n",
            "37/37 [==============================] - 4s 108ms/step - loss: 0.0262 - accuracy: 0.9932 - val_loss: 0.0879 - val_accuracy: 0.9787\n",
            "Epoch 43/50\n",
            "37/37 [==============================] - 4s 109ms/step - loss: 0.0347 - accuracy: 0.9865 - val_loss: 0.0725 - val_accuracy: 0.9787\n",
            "Epoch 44/50\n",
            "37/37 [==============================] - 4s 107ms/step - loss: 0.0340 - accuracy: 0.9932 - val_loss: 0.0813 - val_accuracy: 0.9787\n",
            "Epoch 45/50\n",
            "37/37 [==============================] - 4s 108ms/step - loss: 0.0338 - accuracy: 0.9932 - val_loss: 0.0870 - val_accuracy: 0.9787\n",
            "Epoch 46/50\n",
            "37/37 [==============================] - 4s 107ms/step - loss: 0.0212 - accuracy: 0.9966 - val_loss: 0.0966 - val_accuracy: 0.9681\n",
            "Epoch 47/50\n",
            "37/37 [==============================] - 4s 107ms/step - loss: 0.0326 - accuracy: 0.9865 - val_loss: 0.0823 - val_accuracy: 0.9787\n",
            "Epoch 48/50\n",
            "37/37 [==============================] - 4s 109ms/step - loss: 0.0278 - accuracy: 0.9932 - val_loss: 0.0751 - val_accuracy: 0.9787\n",
            "Epoch 49/50\n",
            "37/37 [==============================] - 4s 109ms/step - loss: 0.0304 - accuracy: 0.9899 - val_loss: 0.0750 - val_accuracy: 0.9787\n",
            "Epoch 50/50\n",
            "37/37 [==============================] - 4s 108ms/step - loss: 0.0412 - accuracy: 0.9797 - val_loss: 0.0665 - val_accuracy: 0.9894\n"
          ],
          "name": "stdout"
        }
      ]
    },
    {
      "cell_type": "markdown",
      "metadata": {
        "id": "n8WBvnWaEc2t",
        "colab_type": "text"
      },
      "source": [
        "# **prediction**"
      ]
    },
    {
      "cell_type": "code",
      "metadata": {
        "id": "ax8loRHIqXri",
        "colab_type": "code",
        "colab": {
          "base_uri": "https://localhost:8080/",
          "height": 1000
        },
        "outputId": "639b5206-0578-4247-9eea-946615358a08"
      },
      "source": [
        "model.predict(x_test)"
      ],
      "execution_count": 25,
      "outputs": [
        {
          "output_type": "execute_result",
          "data": {
            "text/plain": [
              "array([[3.3645108e-04],\n",
              "       [1.2787229e-04],\n",
              "       [3.0687204e-04],\n",
              "       [1.8594293e-04],\n",
              "       [8.8789128e-04],\n",
              "       [2.2062780e-03],\n",
              "       [8.5091895e-05],\n",
              "       [2.3272367e-04],\n",
              "       [6.8524624e-03],\n",
              "       [2.3365160e-03],\n",
              "       [4.6214741e-04],\n",
              "       [4.8456270e-01],\n",
              "       [2.1608867e-04],\n",
              "       [9.8477978e-01],\n",
              "       [3.7198868e-05],\n",
              "       [5.3255004e-04],\n",
              "       [3.3552865e-03],\n",
              "       [3.3389160e-04],\n",
              "       [9.6598919e-04],\n",
              "       [9.8803849e-04],\n",
              "       [6.0224649e-04],\n",
              "       [6.5070181e-04],\n",
              "       [3.8730315e-04],\n",
              "       [2.2554809e-01],\n",
              "       [3.8252815e-04],\n",
              "       [4.0165377e-03],\n",
              "       [1.2528970e-03],\n",
              "       [9.4746792e-05],\n",
              "       [4.5105047e-04],\n",
              "       [2.0995762e-03],\n",
              "       [4.0024426e-04],\n",
              "       [2.2839874e-03],\n",
              "       [7.5507886e-04],\n",
              "       [4.5164018e-03],\n",
              "       [1.0044893e-02],\n",
              "       [4.7172961e-04],\n",
              "       [1.3611122e-04],\n",
              "       [7.9747280e-03],\n",
              "       [4.3664771e-04],\n",
              "       [7.0768646e-03],\n",
              "       [3.5995257e-04],\n",
              "       [2.3332106e-02],\n",
              "       [3.4441127e-04],\n",
              "       [3.0484118e-03],\n",
              "       [5.2329859e-05],\n",
              "       [1.0854526e-03],\n",
              "       [1.5450418e-03],\n",
              "       [9.9200833e-01],\n",
              "       [9.9901772e-01],\n",
              "       [9.9973100e-01],\n",
              "       [9.9732852e-01],\n",
              "       [9.9922824e-01],\n",
              "       [9.9430370e-01],\n",
              "       [9.9756771e-01],\n",
              "       [9.5160627e-01],\n",
              "       [9.9445552e-01],\n",
              "       [8.8230652e-01],\n",
              "       [9.9962628e-01],\n",
              "       [9.9718899e-01],\n",
              "       [9.9953568e-01],\n",
              "       [9.2060763e-01],\n",
              "       [9.9866438e-01],\n",
              "       [9.9978584e-01],\n",
              "       [9.9577904e-01],\n",
              "       [9.9678314e-01],\n",
              "       [9.9796391e-01],\n",
              "       [9.9735093e-01],\n",
              "       [9.9920744e-01],\n",
              "       [9.9899489e-01],\n",
              "       [9.9944538e-01],\n",
              "       [9.9932742e-01],\n",
              "       [9.9955171e-01],\n",
              "       [9.9872005e-01],\n",
              "       [9.8695487e-01],\n",
              "       [9.9914718e-01],\n",
              "       [9.9996626e-01],\n",
              "       [9.9959117e-01],\n",
              "       [9.9994636e-01],\n",
              "       [9.9727505e-01],\n",
              "       [9.9915981e-01],\n",
              "       [9.9951649e-01],\n",
              "       [9.9986589e-01],\n",
              "       [9.9372864e-01],\n",
              "       [9.7922003e-01],\n",
              "       [9.9798799e-01],\n",
              "       [9.9974900e-01],\n",
              "       [9.9997377e-01],\n",
              "       [9.6405590e-01],\n",
              "       [9.2889494e-01],\n",
              "       [9.9977261e-01],\n",
              "       [9.9922121e-01],\n",
              "       [9.9944884e-01],\n",
              "       [6.2954772e-01],\n",
              "       [8.8289243e-01]], dtype=float32)"
            ]
          },
          "metadata": {
            "tags": []
          },
          "execution_count": 25
        }
      ]
    },
    {
      "cell_type": "code",
      "metadata": {
        "id": "90LWTRpDVYaN",
        "colab_type": "code",
        "colab": {
          "base_uri": "https://localhost:8080/",
          "height": 134
        },
        "outputId": "1eb38e27-762d-4f5e-fd27-afd5926e62da"
      },
      "source": [
        "# predicts = model.predict(x_test)\n",
        "th = np.linspace(0.2, 0.8, 7)\n",
        "all_cms = []\n",
        "all_sens = []\n",
        "all_spec = []\n",
        "all_acc = []\n",
        "for t in th:\n",
        "    preds = model.predict(x_test)\n",
        "    preds[preds > t] = 1\n",
        "    preds[preds < t] = 0\n",
        "    cm = confusion_matrix(y_test, preds)\n",
        "    total = sum(sum(cm))\n",
        "    acc = (cm[0, 0] + cm[1, 1]) / total\n",
        "    all_acc.append(acc)\n",
        "    sensitivity = cm[0, 0] / (cm[0, 0] + cm[0, 1])\n",
        "    specificity = cm[1, 1] / (cm[1, 0] + cm[1, 1])\n",
        "    all_cms.append(cm)\n",
        "    all_sens.append(sensitivity)\n",
        "    all_spec.append(specificity)\n",
        "print('best accuracy: ', all_acc[np.argmax(all_acc)])\n",
        "print('threshold: ', th[np.argmax(all_acc)])\n",
        "print('confusion matrix: ', '\\n', all_cms[np.argmax(all_acc)])\n",
        "print('sensitivity: ', all_sens[np.argmax(all_acc)])\n",
        "print('specificity: ', all_spec[np.argmax(all_acc)])\n",
        "\n"
      ],
      "execution_count": 26,
      "outputs": [
        {
          "output_type": "stream",
          "text": [
            "best accuracy:  0.9893617021276596\n",
            "threshold:  0.5\n",
            "confusion matrix:  \n",
            " [[46  1]\n",
            " [ 0 47]]\n",
            "sensitivity:  0.9787234042553191\n",
            "specificity:  1.0\n"
          ],
          "name": "stdout"
        }
      ]
    }
  ]
}